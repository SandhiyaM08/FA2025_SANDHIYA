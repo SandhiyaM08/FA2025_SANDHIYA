{
 "cells": [
  {
   "cell_type": "code",
   "execution_count": 1,
   "id": "78254d19-616f-43f5-9220-6f9854abd0b4",
   "metadata": {},
   "outputs": [
    {
     "name": "stdout",
     "output_type": "stream",
     "text": [
      "Hii\n"
     ]
    }
   ],
   "source": [
    "print(\"Hii\")"
   ]
  },
  {
   "cell_type": "code",
   "execution_count": null,
   "id": "56f46b73-b786-4423-9f65-57d4a6fa0879",
   "metadata": {},
   "outputs": [],
   "source": []
  }
 ],
 "metadata": {
  "kernelspec": {
   "display_name": "Python 3 (ipykernel)",
   "language": "python",
   "name": "python3"
  },
  "language_info": {
   "codemirror_mode": {
    "name": "ipython",
    "version": 3
   },
   "file_extension": ".py",
   "mimetype": "text/x-python",
   "name": "python",
   "nbconvert_exporter": "python",
   "pygments_lexer": "ipython3",
   "version": "3.13.5"
  }
 },
 "nbformat": 4,
 "nbformat_minor": 5
}
