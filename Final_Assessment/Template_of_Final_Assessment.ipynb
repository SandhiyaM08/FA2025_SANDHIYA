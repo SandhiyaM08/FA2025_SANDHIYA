{
 "cells": [
  {
   "cell_type": "markdown",
   "metadata": {
    "id": "efd795a1"
   },
   "source": [
    "# Assessment Problem\n",
    "Write a Python script that processes sensor data from a zip file (`sensor_data_2025.zip`). The script should:\n",
    "1. Extract data from nested city zip files (e.g., `munich_data.zip`, `tokyo_data.zip`), reading ``readings.csv`` and `station_info.json` from each.\n",
    "2. Add a `city` column to each DataFrame with the city's name.\n",
    "3. Combine the data into two main DataFrames: one for readings and one for station info.\n",
    "4. Merge these two DataFrames on `station_id`.\n",
    "5. Clean the merged data by keeping only `active` stations and removing rows with missing `temperature_celsius` or `pm2_5`.\n",
    "6. Calculate the average temperature and PM2.5 for each city.\n",
    "7. Save the city summary as a CSV file named `city_summary_report.csv` with columns `city`, `average_temperature`, and `average_pm2_5`."
   ]
  },
  {
   "cell_type": "markdown",
   "metadata": {
    "id": "3a3730b0"
   },
   "source": [
    "## TASK 1: Load and combine data\n",
    "\n",
    "Go through each city's zip file, read the `readings.csv` and `station_info.json` files, add a 'city' column to each DataFrame, and combine them into `all_readings_df` and `all_station_info_df`.\n"
   ]
  },
  {
   "cell_type": "markdown",
   "metadata": {
    "id": "e84b1b8c"
   },
   "source": [
    "**Reasoning**:\n",
    "TASK 1 requires extracting data from nested zip files, processing them, and combining them into two dataframes. This involves using the zipfile library and pandas for data manipulation.\n",
    "\n"
   ]
  },
  {
   "cell_type": "code",
   "execution_count": 43,
   "metadata": {
    "id": "bb305077"
   },
   "outputs": [
    {
     "data": {
      "text/html": [
       "<div>\n",
       "<style scoped>\n",
       "    .dataframe tbody tr th:only-of-type {\n",
       "        vertical-align: middle;\n",
       "    }\n",
       "\n",
       "    .dataframe tbody tr th {\n",
       "        vertical-align: top;\n",
       "    }\n",
       "\n",
       "    .dataframe thead th {\n",
       "        text-align: right;\n",
       "    }\n",
       "</style>\n",
       "<table border=\"1\" class=\"dataframe\">\n",
       "  <thead>\n",
       "    <tr style=\"text-align: right;\">\n",
       "      <th></th>\n",
       "      <th>station_id</th>\n",
       "      <th>location</th>\n",
       "      <th>status</th>\n",
       "      <th>deployment_year</th>\n",
       "    </tr>\n",
       "  </thead>\n",
       "  <tbody>\n",
       "    <tr>\n",
       "      <th>0</th>\n",
       "      <td>1011</td>\n",
       "      <td>{'latitude': -33.807421, 'longitude': 151.130746}</td>\n",
       "      <td>active</td>\n",
       "      <td>2022</td>\n",
       "    </tr>\n",
       "    <tr>\n",
       "      <th>1</th>\n",
       "      <td>1012</td>\n",
       "      <td>{'latitude': -33.863872, 'longitude': 151.151055}</td>\n",
       "      <td>active</td>\n",
       "      <td>2023</td>\n",
       "    </tr>\n",
       "    <tr>\n",
       "      <th>2</th>\n",
       "      <td>1013</td>\n",
       "      <td>{'latitude': -33.876501, 'longitude': 151.137366}</td>\n",
       "      <td>active</td>\n",
       "      <td>2018</td>\n",
       "    </tr>\n",
       "    <tr>\n",
       "      <th>3</th>\n",
       "      <td>1014</td>\n",
       "      <td>{'latitude': -33.865011, 'longitude': 151.180531}</td>\n",
       "      <td>active</td>\n",
       "      <td>2020</td>\n",
       "    </tr>\n",
       "    <tr>\n",
       "      <th>4</th>\n",
       "      <td>1015</td>\n",
       "      <td>{'latitude': -33.812949, 'longitude': 151.165912}</td>\n",
       "      <td>maintenance</td>\n",
       "      <td>2021</td>\n",
       "    </tr>\n",
       "  </tbody>\n",
       "</table>\n",
       "</div>"
      ],
      "text/plain": [
       "   station_id                                           location       status  \\\n",
       "0        1011  {'latitude': -33.807421, 'longitude': 151.130746}       active   \n",
       "1        1012  {'latitude': -33.863872, 'longitude': 151.151055}       active   \n",
       "2        1013  {'latitude': -33.876501, 'longitude': 151.137366}       active   \n",
       "3        1014  {'latitude': -33.865011, 'longitude': 151.180531}       active   \n",
       "4        1015  {'latitude': -33.812949, 'longitude': 151.165912}  maintenance   \n",
       "\n",
       "   deployment_year  \n",
       "0             2022  \n",
       "1             2023  \n",
       "2             2018  \n",
       "3             2020  \n",
       "4             2021  "
      ]
     },
     "execution_count": 43,
     "metadata": {},
     "output_type": "execute_result"
    }
   ],
   "source": [
    "#unzip the files\n",
    "import zipfile\n",
    "def unzip(filename):\n",
    "    with zipfile.ZipFile(filename,'r') as zf:\n",
    "        inner_list=zf.namelist()\n",
    "        zf.extractall()\n",
    "        return inner_list\n",
    "inner_list=unzip(\"sensor_data_2025.zip\")\n",
    "for file in inner_list:\n",
    "    unzip(file)\n",
    "\n",
    "#reading city zip file\n",
    "import pandas as pd\n",
    "reading=pd.read_csv(\"readings.csv\")\n",
    "station_info=pd.read_json(\"station_info.json\")\n",
    "reading\n",
    "station_info\n",
    "\n",
    "\n",
    "\n",
    "\n",
    "   "
   ]
  },
  {
   "cell_type": "markdown",
   "metadata": {
    "id": "e7aacbc0"
   },
   "source": [
    "## TASK 2: Merge dataframes\n",
    "\n",
    "Merge the `all_readings_df` and `all_station_info_df` into a single DataFrame using the `station_id` column.\n"
   ]
  },
  {
   "cell_type": "markdown",
   "metadata": {
    "id": "0dfaad49"
   },
   "source": [
    "**Reasoning**:\n",
    "Merge the two dataframes `all_readings_df` and `all_station_info_df` on the `station_id` column and display the head of the resulting dataframe to verify the merge.\n",
    "\n"
   ]
  },
  {
   "cell_type": "code",
   "execution_count": null,
   "metadata": {
    "id": "cf658701"
   },
   "outputs": [],
   "source": [
    "# WRITE YOUR CODE HERE"
   ]
  },
  {
   "cell_type": "markdown",
   "metadata": {
    "id": "f453b143"
   },
   "source": [
    "## TASK 3: Clean data\n",
    "\n",
    "Filter the merged DataFrame to keep only 'active' stations and remove rows with missing values in 'temperature_celsius' or 'pm2_5'.\n"
   ]
  },
  {
   "cell_type": "markdown",
   "metadata": {
    "id": "88ecd5a3"
   },
   "source": [
    "**Reasoning**:\n",
    "Filter the merged dataframe to keep only active stations and remove rows with missing values in the specified columns.\n",
    "\n"
   ]
  },
  {
   "cell_type": "code",
   "execution_count": 1,
   "metadata": {
    "id": "fa0aa6f0"
   },
   "outputs": [],
   "source": [
    "# WRITE YOUR CODE HERE"
   ]
  },
  {
   "cell_type": "markdown",
   "metadata": {
    "id": "5b6a3be6"
   },
   "source": [
    "## TASK 4: Analyze data\n",
    "\n",
    "Calculate the average 'temperature_celsius' and 'pm2_5' for each city.\n"
   ]
  },
  {
   "cell_type": "markdown",
   "metadata": {
    "id": "485603b4"
   },
   "source": [
    "**Reasoning**:\n",
    "Calculate the mean temperature and PM2.5 for each city by grouping the cleaned_df by city and applying the mean aggregation. Then display the head of the resulting dataframe.\n",
    "\n"
   ]
  },
  {
   "cell_type": "code",
   "execution_count": 2,
   "metadata": {
    "id": "ac870825"
   },
   "outputs": [],
   "source": [
    "# WRITE YOUR CODE HERE"
   ]
  },
  {
   "cell_type": "markdown",
   "metadata": {
    "id": "40979f5f"
   },
   "source": [
    "## TASK 5: Save report\n",
    "\n",
    "Save the city summary as a CSV file named `city_summary_report.csv` with the specified columns.\n"
   ]
  },
  {
   "cell_type": "markdown",
   "metadata": {
    "id": "1842ff9e"
   },
   "source": [
    "**Reasoning**:\n",
    "Reset the index, rename the city column, and save the city summary DataFrame to a CSV file.\n",
    "\n"
   ]
  },
  {
   "cell_type": "code",
   "execution_count": 3,
   "metadata": {
    "id": "2d720f4f"
   },
   "outputs": [],
   "source": [
    "# WRITE YOUR CODE HERE"
   ]
  }
 ],
 "metadata": {
  "colab": {
   "provenance": []
  },
  "kernelspec": {
   "display_name": "Python 3 (ipykernel)",
   "language": "python",
   "name": "python3"
  },
  "language_info": {
   "codemirror_mode": {
    "name": "ipython",
    "version": 3
   },
   "file_extension": ".py",
   "mimetype": "text/x-python",
   "name": "python",
   "nbconvert_exporter": "python",
   "pygments_lexer": "ipython3",
   "version": "3.13.5"
  }
 },
 "nbformat": 4,
 "nbformat_minor": 4
}
